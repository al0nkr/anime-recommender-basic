{
  "nbformat": 4,
  "nbformat_minor": 0,
  "metadata": {
    "colab": {
      "provenance": [],
      "authorship_tag": "ABX9TyO91NVzF8pCmA1X3NHxnfiP",
      "include_colab_link": true
    },
    "kernelspec": {
      "name": "python3",
      "display_name": "Python 3"
    },
    "language_info": {
      "name": "python"
    }
  },
  "cells": [
    {
      "cell_type": "markdown",
      "metadata": {
        "id": "view-in-github",
        "colab_type": "text"
      },
      "source": [
        "<a href=\"https://colab.research.google.com/github/al0nkr/work/blob/main/amine.ipynb\" target=\"_parent\"><img src=\"https://colab.research.google.com/assets/colab-badge.svg\" alt=\"Open In Colab\"/></a>"
      ]
    },
    {
      "cell_type": "code",
      "execution_count": 37,
      "metadata": {
        "colab": {
          "base_uri": "https://localhost:8080/",
          "height": 337
        },
        "id": "PCxhSdPoBvwT",
        "outputId": "b5b7f88d-3be4-411c-e30c-6ad033c51898"
      },
      "outputs": [
        {
          "output_type": "execute_result",
          "data": {
            "text/plain": [
              "     uid                             title  \\\n",
              "0  28891           Haikyuu!! Second Season   \n",
              "1  23273           Shigatsu wa Kimi no Uso   \n",
              "2  34599                     Made in Abyss   \n",
              "3   5114  Fullmetal Alchemist: Brotherhood   \n",
              "4  31758  Kizumonogatari III: Reiketsu-hen   \n",
              "\n",
              "                                            synopsis  \\\n",
              "0  Following their participation at the Inter-Hig...   \n",
              "1  Music accompanies the path of the human metron...   \n",
              "2  The Abyss—a gaping chasm stretching down into ...   \n",
              "3  \"In order for something to be obtained, someth...   \n",
              "4  After helping revive the legendary vampire Kis...   \n",
              "\n",
              "                                               genre  \\\n",
              "0  ['Comedy', 'Sports', 'Drama', 'School', 'Shoun...   \n",
              "1  ['Drama', 'Music', 'Romance', 'School', 'Shoun...   \n",
              "2  ['Sci-Fi', 'Adventure', 'Mystery', 'Drama', 'F...   \n",
              "3  ['Action', 'Military', 'Adventure', 'Comedy', ...   \n",
              "4   ['Action', 'Mystery', 'Supernatural', 'Vampire']   \n",
              "\n",
              "                          aired  episodes  members  popularity  ranked  score  \\\n",
              "0   Oct 4, 2015 to Mar 27, 2016      25.0   489888         141    25.0   8.82   \n",
              "1  Oct 10, 2014 to Mar 20, 2015      22.0   995473          28    24.0   8.83   \n",
              "2   Jul 7, 2017 to Sep 29, 2017      13.0   581663          98    23.0   8.83   \n",
              "3    Apr 5, 2009 to Jul 4, 2010      64.0  1615084           4     1.0   9.23   \n",
              "4                   Jan 6, 2017       1.0   214621         502    22.0   8.83   \n",
              "\n",
              "                                             img_url  \\\n",
              "0  https://cdn.myanimelist.net/images/anime/9/766...   \n",
              "1  https://cdn.myanimelist.net/images/anime/3/671...   \n",
              "2  https://cdn.myanimelist.net/images/anime/6/867...   \n",
              "3  https://cdn.myanimelist.net/images/anime/1223/...   \n",
              "4  https://cdn.myanimelist.net/images/anime/3/815...   \n",
              "\n",
              "                                                link  \n",
              "0  https://myanimelist.net/anime/28891/Haikyuu_Se...  \n",
              "1  https://myanimelist.net/anime/23273/Shigatsu_w...  \n",
              "2  https://myanimelist.net/anime/34599/Made_in_Abyss  \n",
              "3  https://myanimelist.net/anime/5114/Fullmetal_A...  \n",
              "4  https://myanimelist.net/anime/31758/Kizumonoga...  "
            ],
            "text/html": [
              "\n",
              "  <div id=\"df-8211cb6f-b894-44e7-b9ac-10649279d0af\">\n",
              "    <div class=\"colab-df-container\">\n",
              "      <div>\n",
              "<style scoped>\n",
              "    .dataframe tbody tr th:only-of-type {\n",
              "        vertical-align: middle;\n",
              "    }\n",
              "\n",
              "    .dataframe tbody tr th {\n",
              "        vertical-align: top;\n",
              "    }\n",
              "\n",
              "    .dataframe thead th {\n",
              "        text-align: right;\n",
              "    }\n",
              "</style>\n",
              "<table border=\"1\" class=\"dataframe\">\n",
              "  <thead>\n",
              "    <tr style=\"text-align: right;\">\n",
              "      <th></th>\n",
              "      <th>uid</th>\n",
              "      <th>title</th>\n",
              "      <th>synopsis</th>\n",
              "      <th>genre</th>\n",
              "      <th>aired</th>\n",
              "      <th>episodes</th>\n",
              "      <th>members</th>\n",
              "      <th>popularity</th>\n",
              "      <th>ranked</th>\n",
              "      <th>score</th>\n",
              "      <th>img_url</th>\n",
              "      <th>link</th>\n",
              "    </tr>\n",
              "  </thead>\n",
              "  <tbody>\n",
              "    <tr>\n",
              "      <th>0</th>\n",
              "      <td>28891</td>\n",
              "      <td>Haikyuu!! Second Season</td>\n",
              "      <td>Following their participation at the Inter-Hig...</td>\n",
              "      <td>['Comedy', 'Sports', 'Drama', 'School', 'Shoun...</td>\n",
              "      <td>Oct 4, 2015 to Mar 27, 2016</td>\n",
              "      <td>25.0</td>\n",
              "      <td>489888</td>\n",
              "      <td>141</td>\n",
              "      <td>25.0</td>\n",
              "      <td>8.82</td>\n",
              "      <td>https://cdn.myanimelist.net/images/anime/9/766...</td>\n",
              "      <td>https://myanimelist.net/anime/28891/Haikyuu_Se...</td>\n",
              "    </tr>\n",
              "    <tr>\n",
              "      <th>1</th>\n",
              "      <td>23273</td>\n",
              "      <td>Shigatsu wa Kimi no Uso</td>\n",
              "      <td>Music accompanies the path of the human metron...</td>\n",
              "      <td>['Drama', 'Music', 'Romance', 'School', 'Shoun...</td>\n",
              "      <td>Oct 10, 2014 to Mar 20, 2015</td>\n",
              "      <td>22.0</td>\n",
              "      <td>995473</td>\n",
              "      <td>28</td>\n",
              "      <td>24.0</td>\n",
              "      <td>8.83</td>\n",
              "      <td>https://cdn.myanimelist.net/images/anime/3/671...</td>\n",
              "      <td>https://myanimelist.net/anime/23273/Shigatsu_w...</td>\n",
              "    </tr>\n",
              "    <tr>\n",
              "      <th>2</th>\n",
              "      <td>34599</td>\n",
              "      <td>Made in Abyss</td>\n",
              "      <td>The Abyss—a gaping chasm stretching down into ...</td>\n",
              "      <td>['Sci-Fi', 'Adventure', 'Mystery', 'Drama', 'F...</td>\n",
              "      <td>Jul 7, 2017 to Sep 29, 2017</td>\n",
              "      <td>13.0</td>\n",
              "      <td>581663</td>\n",
              "      <td>98</td>\n",
              "      <td>23.0</td>\n",
              "      <td>8.83</td>\n",
              "      <td>https://cdn.myanimelist.net/images/anime/6/867...</td>\n",
              "      <td>https://myanimelist.net/anime/34599/Made_in_Abyss</td>\n",
              "    </tr>\n",
              "    <tr>\n",
              "      <th>3</th>\n",
              "      <td>5114</td>\n",
              "      <td>Fullmetal Alchemist: Brotherhood</td>\n",
              "      <td>\"In order for something to be obtained, someth...</td>\n",
              "      <td>['Action', 'Military', 'Adventure', 'Comedy', ...</td>\n",
              "      <td>Apr 5, 2009 to Jul 4, 2010</td>\n",
              "      <td>64.0</td>\n",
              "      <td>1615084</td>\n",
              "      <td>4</td>\n",
              "      <td>1.0</td>\n",
              "      <td>9.23</td>\n",
              "      <td>https://cdn.myanimelist.net/images/anime/1223/...</td>\n",
              "      <td>https://myanimelist.net/anime/5114/Fullmetal_A...</td>\n",
              "    </tr>\n",
              "    <tr>\n",
              "      <th>4</th>\n",
              "      <td>31758</td>\n",
              "      <td>Kizumonogatari III: Reiketsu-hen</td>\n",
              "      <td>After helping revive the legendary vampire Kis...</td>\n",
              "      <td>['Action', 'Mystery', 'Supernatural', 'Vampire']</td>\n",
              "      <td>Jan 6, 2017</td>\n",
              "      <td>1.0</td>\n",
              "      <td>214621</td>\n",
              "      <td>502</td>\n",
              "      <td>22.0</td>\n",
              "      <td>8.83</td>\n",
              "      <td>https://cdn.myanimelist.net/images/anime/3/815...</td>\n",
              "      <td>https://myanimelist.net/anime/31758/Kizumonoga...</td>\n",
              "    </tr>\n",
              "  </tbody>\n",
              "</table>\n",
              "</div>\n",
              "      <button class=\"colab-df-convert\" onclick=\"convertToInteractive('df-8211cb6f-b894-44e7-b9ac-10649279d0af')\"\n",
              "              title=\"Convert this dataframe to an interactive table.\"\n",
              "              style=\"display:none;\">\n",
              "        \n",
              "  <svg xmlns=\"http://www.w3.org/2000/svg\" height=\"24px\"viewBox=\"0 0 24 24\"\n",
              "       width=\"24px\">\n",
              "    <path d=\"M0 0h24v24H0V0z\" fill=\"none\"/>\n",
              "    <path d=\"M18.56 5.44l.94 2.06.94-2.06 2.06-.94-2.06-.94-.94-2.06-.94 2.06-2.06.94zm-11 1L8.5 8.5l.94-2.06 2.06-.94-2.06-.94L8.5 2.5l-.94 2.06-2.06.94zm10 10l.94 2.06.94-2.06 2.06-.94-2.06-.94-.94-2.06-.94 2.06-2.06.94z\"/><path d=\"M17.41 7.96l-1.37-1.37c-.4-.4-.92-.59-1.43-.59-.52 0-1.04.2-1.43.59L10.3 9.45l-7.72 7.72c-.78.78-.78 2.05 0 2.83L4 21.41c.39.39.9.59 1.41.59.51 0 1.02-.2 1.41-.59l7.78-7.78 2.81-2.81c.8-.78.8-2.07 0-2.86zM5.41 20L4 18.59l7.72-7.72 1.47 1.35L5.41 20z\"/>\n",
              "  </svg>\n",
              "      </button>\n",
              "      \n",
              "  <style>\n",
              "    .colab-df-container {\n",
              "      display:flex;\n",
              "      flex-wrap:wrap;\n",
              "      gap: 12px;\n",
              "    }\n",
              "\n",
              "    .colab-df-convert {\n",
              "      background-color: #E8F0FE;\n",
              "      border: none;\n",
              "      border-radius: 50%;\n",
              "      cursor: pointer;\n",
              "      display: none;\n",
              "      fill: #1967D2;\n",
              "      height: 32px;\n",
              "      padding: 0 0 0 0;\n",
              "      width: 32px;\n",
              "    }\n",
              "\n",
              "    .colab-df-convert:hover {\n",
              "      background-color: #E2EBFA;\n",
              "      box-shadow: 0px 1px 2px rgba(60, 64, 67, 0.3), 0px 1px 3px 1px rgba(60, 64, 67, 0.15);\n",
              "      fill: #174EA6;\n",
              "    }\n",
              "\n",
              "    [theme=dark] .colab-df-convert {\n",
              "      background-color: #3B4455;\n",
              "      fill: #D2E3FC;\n",
              "    }\n",
              "\n",
              "    [theme=dark] .colab-df-convert:hover {\n",
              "      background-color: #434B5C;\n",
              "      box-shadow: 0px 1px 3px 1px rgba(0, 0, 0, 0.15);\n",
              "      filter: drop-shadow(0px 1px 2px rgba(0, 0, 0, 0.3));\n",
              "      fill: #FFFFFF;\n",
              "    }\n",
              "  </style>\n",
              "\n",
              "      <script>\n",
              "        const buttonEl =\n",
              "          document.querySelector('#df-8211cb6f-b894-44e7-b9ac-10649279d0af button.colab-df-convert');\n",
              "        buttonEl.style.display =\n",
              "          google.colab.kernel.accessAllowed ? 'block' : 'none';\n",
              "\n",
              "        async function convertToInteractive(key) {\n",
              "          const element = document.querySelector('#df-8211cb6f-b894-44e7-b9ac-10649279d0af');\n",
              "          const dataTable =\n",
              "            await google.colab.kernel.invokeFunction('convertToInteractive',\n",
              "                                                     [key], {});\n",
              "          if (!dataTable) return;\n",
              "\n",
              "          const docLinkHtml = 'Like what you see? Visit the ' +\n",
              "            '<a target=\"_blank\" href=https://colab.research.google.com/notebooks/data_table.ipynb>data table notebook</a>'\n",
              "            + ' to learn more about interactive tables.';\n",
              "          element.innerHTML = '';\n",
              "          dataTable['output_type'] = 'display_data';\n",
              "          await google.colab.output.renderOutput(dataTable, element);\n",
              "          const docLink = document.createElement('div');\n",
              "          docLink.innerHTML = docLinkHtml;\n",
              "          element.appendChild(docLink);\n",
              "        }\n",
              "      </script>\n",
              "    </div>\n",
              "  </div>\n",
              "  "
            ]
          },
          "metadata": {},
          "execution_count": 37
        }
      ],
      "source": [
        "import numpy as np\n",
        "import pandas as pd\n",
        "\n",
        "url = 'https://raw.githubusercontent.com/al0nkr/work/main/animes.csv'\n",
        "anime = pd.read_csv(url)\n",
        "# uid title genre synopsis episodes popularity ranked score \n",
        "\n",
        "\n",
        "'''\n",
        "\n",
        "uid | title | tags | numerics \n",
        "\n",
        "'''\n",
        "anime.head()"
      ]
    },
    {
      "cell_type": "code",
      "source": [
        "import ast \n",
        "def convert(obj):\n",
        "    L = []\n",
        "    for i in ast.literal_eval(obj):\n",
        "        L.append(i)\n",
        "    return L\n",
        "anime.genre = anime.genre.apply(convert)\n",
        "\n",
        "anime.head()\n"
      ],
      "metadata": {
        "colab": {
          "base_uri": "https://localhost:8080/",
          "height": 337
        },
        "id": "zHc4B7VGVWGa",
        "outputId": "bd1e8e8f-73b7-48c3-d995-c37abc3a0f15"
      },
      "execution_count": 38,
      "outputs": [
        {
          "output_type": "execute_result",
          "data": {
            "text/plain": [
              "     uid                             title  \\\n",
              "0  28891           Haikyuu!! Second Season   \n",
              "1  23273           Shigatsu wa Kimi no Uso   \n",
              "2  34599                     Made in Abyss   \n",
              "3   5114  Fullmetal Alchemist: Brotherhood   \n",
              "4  31758  Kizumonogatari III: Reiketsu-hen   \n",
              "\n",
              "                                            synopsis  \\\n",
              "0  Following their participation at the Inter-Hig...   \n",
              "1  Music accompanies the path of the human metron...   \n",
              "2  The Abyss—a gaping chasm stretching down into ...   \n",
              "3  \"In order for something to be obtained, someth...   \n",
              "4  After helping revive the legendary vampire Kis...   \n",
              "\n",
              "                                               genre  \\\n",
              "0           [Comedy, Sports, Drama, School, Shounen]   \n",
              "1           [Drama, Music, Romance, School, Shounen]   \n",
              "2       [Sci-Fi, Adventure, Mystery, Drama, Fantasy]   \n",
              "3  [Action, Military, Adventure, Comedy, Drama, M...   \n",
              "4           [Action, Mystery, Supernatural, Vampire]   \n",
              "\n",
              "                          aired  episodes  members  popularity  ranked  score  \\\n",
              "0   Oct 4, 2015 to Mar 27, 2016      25.0   489888         141    25.0   8.82   \n",
              "1  Oct 10, 2014 to Mar 20, 2015      22.0   995473          28    24.0   8.83   \n",
              "2   Jul 7, 2017 to Sep 29, 2017      13.0   581663          98    23.0   8.83   \n",
              "3    Apr 5, 2009 to Jul 4, 2010      64.0  1615084           4     1.0   9.23   \n",
              "4                   Jan 6, 2017       1.0   214621         502    22.0   8.83   \n",
              "\n",
              "                                             img_url  \\\n",
              "0  https://cdn.myanimelist.net/images/anime/9/766...   \n",
              "1  https://cdn.myanimelist.net/images/anime/3/671...   \n",
              "2  https://cdn.myanimelist.net/images/anime/6/867...   \n",
              "3  https://cdn.myanimelist.net/images/anime/1223/...   \n",
              "4  https://cdn.myanimelist.net/images/anime/3/815...   \n",
              "\n",
              "                                                link  \n",
              "0  https://myanimelist.net/anime/28891/Haikyuu_Se...  \n",
              "1  https://myanimelist.net/anime/23273/Shigatsu_w...  \n",
              "2  https://myanimelist.net/anime/34599/Made_in_Abyss  \n",
              "3  https://myanimelist.net/anime/5114/Fullmetal_A...  \n",
              "4  https://myanimelist.net/anime/31758/Kizumonoga...  "
            ],
            "text/html": [
              "\n",
              "  <div id=\"df-a3699656-6187-4a4c-ac35-f1df0cb4e055\">\n",
              "    <div class=\"colab-df-container\">\n",
              "      <div>\n",
              "<style scoped>\n",
              "    .dataframe tbody tr th:only-of-type {\n",
              "        vertical-align: middle;\n",
              "    }\n",
              "\n",
              "    .dataframe tbody tr th {\n",
              "        vertical-align: top;\n",
              "    }\n",
              "\n",
              "    .dataframe thead th {\n",
              "        text-align: right;\n",
              "    }\n",
              "</style>\n",
              "<table border=\"1\" class=\"dataframe\">\n",
              "  <thead>\n",
              "    <tr style=\"text-align: right;\">\n",
              "      <th></th>\n",
              "      <th>uid</th>\n",
              "      <th>title</th>\n",
              "      <th>synopsis</th>\n",
              "      <th>genre</th>\n",
              "      <th>aired</th>\n",
              "      <th>episodes</th>\n",
              "      <th>members</th>\n",
              "      <th>popularity</th>\n",
              "      <th>ranked</th>\n",
              "      <th>score</th>\n",
              "      <th>img_url</th>\n",
              "      <th>link</th>\n",
              "    </tr>\n",
              "  </thead>\n",
              "  <tbody>\n",
              "    <tr>\n",
              "      <th>0</th>\n",
              "      <td>28891</td>\n",
              "      <td>Haikyuu!! Second Season</td>\n",
              "      <td>Following their participation at the Inter-Hig...</td>\n",
              "      <td>[Comedy, Sports, Drama, School, Shounen]</td>\n",
              "      <td>Oct 4, 2015 to Mar 27, 2016</td>\n",
              "      <td>25.0</td>\n",
              "      <td>489888</td>\n",
              "      <td>141</td>\n",
              "      <td>25.0</td>\n",
              "      <td>8.82</td>\n",
              "      <td>https://cdn.myanimelist.net/images/anime/9/766...</td>\n",
              "      <td>https://myanimelist.net/anime/28891/Haikyuu_Se...</td>\n",
              "    </tr>\n",
              "    <tr>\n",
              "      <th>1</th>\n",
              "      <td>23273</td>\n",
              "      <td>Shigatsu wa Kimi no Uso</td>\n",
              "      <td>Music accompanies the path of the human metron...</td>\n",
              "      <td>[Drama, Music, Romance, School, Shounen]</td>\n",
              "      <td>Oct 10, 2014 to Mar 20, 2015</td>\n",
              "      <td>22.0</td>\n",
              "      <td>995473</td>\n",
              "      <td>28</td>\n",
              "      <td>24.0</td>\n",
              "      <td>8.83</td>\n",
              "      <td>https://cdn.myanimelist.net/images/anime/3/671...</td>\n",
              "      <td>https://myanimelist.net/anime/23273/Shigatsu_w...</td>\n",
              "    </tr>\n",
              "    <tr>\n",
              "      <th>2</th>\n",
              "      <td>34599</td>\n",
              "      <td>Made in Abyss</td>\n",
              "      <td>The Abyss—a gaping chasm stretching down into ...</td>\n",
              "      <td>[Sci-Fi, Adventure, Mystery, Drama, Fantasy]</td>\n",
              "      <td>Jul 7, 2017 to Sep 29, 2017</td>\n",
              "      <td>13.0</td>\n",
              "      <td>581663</td>\n",
              "      <td>98</td>\n",
              "      <td>23.0</td>\n",
              "      <td>8.83</td>\n",
              "      <td>https://cdn.myanimelist.net/images/anime/6/867...</td>\n",
              "      <td>https://myanimelist.net/anime/34599/Made_in_Abyss</td>\n",
              "    </tr>\n",
              "    <tr>\n",
              "      <th>3</th>\n",
              "      <td>5114</td>\n",
              "      <td>Fullmetal Alchemist: Brotherhood</td>\n",
              "      <td>\"In order for something to be obtained, someth...</td>\n",
              "      <td>[Action, Military, Adventure, Comedy, Drama, M...</td>\n",
              "      <td>Apr 5, 2009 to Jul 4, 2010</td>\n",
              "      <td>64.0</td>\n",
              "      <td>1615084</td>\n",
              "      <td>4</td>\n",
              "      <td>1.0</td>\n",
              "      <td>9.23</td>\n",
              "      <td>https://cdn.myanimelist.net/images/anime/1223/...</td>\n",
              "      <td>https://myanimelist.net/anime/5114/Fullmetal_A...</td>\n",
              "    </tr>\n",
              "    <tr>\n",
              "      <th>4</th>\n",
              "      <td>31758</td>\n",
              "      <td>Kizumonogatari III: Reiketsu-hen</td>\n",
              "      <td>After helping revive the legendary vampire Kis...</td>\n",
              "      <td>[Action, Mystery, Supernatural, Vampire]</td>\n",
              "      <td>Jan 6, 2017</td>\n",
              "      <td>1.0</td>\n",
              "      <td>214621</td>\n",
              "      <td>502</td>\n",
              "      <td>22.0</td>\n",
              "      <td>8.83</td>\n",
              "      <td>https://cdn.myanimelist.net/images/anime/3/815...</td>\n",
              "      <td>https://myanimelist.net/anime/31758/Kizumonoga...</td>\n",
              "    </tr>\n",
              "  </tbody>\n",
              "</table>\n",
              "</div>\n",
              "      <button class=\"colab-df-convert\" onclick=\"convertToInteractive('df-a3699656-6187-4a4c-ac35-f1df0cb4e055')\"\n",
              "              title=\"Convert this dataframe to an interactive table.\"\n",
              "              style=\"display:none;\">\n",
              "        \n",
              "  <svg xmlns=\"http://www.w3.org/2000/svg\" height=\"24px\"viewBox=\"0 0 24 24\"\n",
              "       width=\"24px\">\n",
              "    <path d=\"M0 0h24v24H0V0z\" fill=\"none\"/>\n",
              "    <path d=\"M18.56 5.44l.94 2.06.94-2.06 2.06-.94-2.06-.94-.94-2.06-.94 2.06-2.06.94zm-11 1L8.5 8.5l.94-2.06 2.06-.94-2.06-.94L8.5 2.5l-.94 2.06-2.06.94zm10 10l.94 2.06.94-2.06 2.06-.94-2.06-.94-.94-2.06-.94 2.06-2.06.94z\"/><path d=\"M17.41 7.96l-1.37-1.37c-.4-.4-.92-.59-1.43-.59-.52 0-1.04.2-1.43.59L10.3 9.45l-7.72 7.72c-.78.78-.78 2.05 0 2.83L4 21.41c.39.39.9.59 1.41.59.51 0 1.02-.2 1.41-.59l7.78-7.78 2.81-2.81c.8-.78.8-2.07 0-2.86zM5.41 20L4 18.59l7.72-7.72 1.47 1.35L5.41 20z\"/>\n",
              "  </svg>\n",
              "      </button>\n",
              "      \n",
              "  <style>\n",
              "    .colab-df-container {\n",
              "      display:flex;\n",
              "      flex-wrap:wrap;\n",
              "      gap: 12px;\n",
              "    }\n",
              "\n",
              "    .colab-df-convert {\n",
              "      background-color: #E8F0FE;\n",
              "      border: none;\n",
              "      border-radius: 50%;\n",
              "      cursor: pointer;\n",
              "      display: none;\n",
              "      fill: #1967D2;\n",
              "      height: 32px;\n",
              "      padding: 0 0 0 0;\n",
              "      width: 32px;\n",
              "    }\n",
              "\n",
              "    .colab-df-convert:hover {\n",
              "      background-color: #E2EBFA;\n",
              "      box-shadow: 0px 1px 2px rgba(60, 64, 67, 0.3), 0px 1px 3px 1px rgba(60, 64, 67, 0.15);\n",
              "      fill: #174EA6;\n",
              "    }\n",
              "\n",
              "    [theme=dark] .colab-df-convert {\n",
              "      background-color: #3B4455;\n",
              "      fill: #D2E3FC;\n",
              "    }\n",
              "\n",
              "    [theme=dark] .colab-df-convert:hover {\n",
              "      background-color: #434B5C;\n",
              "      box-shadow: 0px 1px 3px 1px rgba(0, 0, 0, 0.15);\n",
              "      filter: drop-shadow(0px 1px 2px rgba(0, 0, 0, 0.3));\n",
              "      fill: #FFFFFF;\n",
              "    }\n",
              "  </style>\n",
              "\n",
              "      <script>\n",
              "        const buttonEl =\n",
              "          document.querySelector('#df-a3699656-6187-4a4c-ac35-f1df0cb4e055 button.colab-df-convert');\n",
              "        buttonEl.style.display =\n",
              "          google.colab.kernel.accessAllowed ? 'block' : 'none';\n",
              "\n",
              "        async function convertToInteractive(key) {\n",
              "          const element = document.querySelector('#df-a3699656-6187-4a4c-ac35-f1df0cb4e055');\n",
              "          const dataTable =\n",
              "            await google.colab.kernel.invokeFunction('convertToInteractive',\n",
              "                                                     [key], {});\n",
              "          if (!dataTable) return;\n",
              "\n",
              "          const docLinkHtml = 'Like what you see? Visit the ' +\n",
              "            '<a target=\"_blank\" href=https://colab.research.google.com/notebooks/data_table.ipynb>data table notebook</a>'\n",
              "            + ' to learn more about interactive tables.';\n",
              "          element.innerHTML = '';\n",
              "          dataTable['output_type'] = 'display_data';\n",
              "          await google.colab.output.renderOutput(dataTable, element);\n",
              "          const docLink = document.createElement('div');\n",
              "          docLink.innerHTML = docLinkHtml;\n",
              "          element.appendChild(docLink);\n",
              "        }\n",
              "      </script>\n",
              "    </div>\n",
              "  </div>\n",
              "  "
            ]
          },
          "metadata": {},
          "execution_count": 38
        }
      ]
    },
    {
      "cell_type": "code",
      "source": [
        "anime.dropna(inplace=True)\n",
        "anime.head"
      ],
      "metadata": {
        "colab": {
          "base_uri": "https://localhost:8080/"
        },
        "id": "ooxRx3ZokTaS",
        "outputId": "89447d39-c25e-44e6-9377-116af1b3c185"
      },
      "execution_count": 39,
      "outputs": [
        {
          "output_type": "execute_result",
          "data": {
            "text/plain": [
              "<bound method NDFrame.head of          uid                                        title  \\\n",
              "0      28891                      Haikyuu!! Second Season   \n",
              "1      23273                      Shigatsu wa Kimi no Uso   \n",
              "2      34599                                Made in Abyss   \n",
              "3       5114             Fullmetal Alchemist: Brotherhood   \n",
              "4      31758             Kizumonogatari III: Reiketsu-hen   \n",
              "...      ...                                          ...   \n",
              "19306  32979                                Flip Flappers   \n",
              "19307    123                                Fushigi Yuugi   \n",
              "19308   1281                             Gakkou no Kaidan   \n",
              "19309    450  InuYasha Movie 2: Kagami no Naka no Mugenjo   \n",
              "19310     87     Mobile Suit Gundam: Char's Counterattack   \n",
              "\n",
              "                                                synopsis  \\\n",
              "0      Following their participation at the Inter-Hig...   \n",
              "1      Music accompanies the path of the human metron...   \n",
              "2      The Abyss—a gaping chasm stretching down into ...   \n",
              "3      \"In order for something to be obtained, someth...   \n",
              "4      After helping revive the legendary vampire Kis...   \n",
              "...                                                  ...   \n",
              "19306  Cocona is an average middle schooler living wi...   \n",
              "19307  While visiting the National Library, junior-hi...   \n",
              "19308  Years ago, all of the ghosts in a haunted scho...   \n",
              "19309  Inuyasha and company have finally destroyed Na...   \n",
              "19310  The year is Universal Century 0093. Char Aznab...   \n",
              "\n",
              "                                                   genre  \\\n",
              "0               [Comedy, Sports, Drama, School, Shounen]   \n",
              "1               [Drama, Music, Romance, School, Shounen]   \n",
              "2           [Sci-Fi, Adventure, Mystery, Drama, Fantasy]   \n",
              "3      [Action, Military, Adventure, Comedy, Drama, M...   \n",
              "4               [Action, Mystery, Supernatural, Vampire]   \n",
              "...                                                  ...   \n",
              "19306                 [Sci-Fi, Adventure, Comedy, Magic]   \n",
              "19307  [Adventure, Fantasy, Magic, Martial Arts, Come...   \n",
              "19308                    [Mystery, Horror, Supernatural]   \n",
              "19309  [Action, Adventure, Comedy, Historical, Demons...   \n",
              "19310            [Military, Sci-Fi, Space, Drama, Mecha]   \n",
              "\n",
              "                              aired  episodes  members  popularity  ranked  \\\n",
              "0       Oct 4, 2015 to Mar 27, 2016      25.0   489888         141    25.0   \n",
              "1      Oct 10, 2014 to Mar 20, 2015      22.0   995473          28    24.0   \n",
              "2       Jul 7, 2017 to Sep 29, 2017      13.0   581663          98    23.0   \n",
              "3        Apr 5, 2009 to Jul 4, 2010      64.0  1615084           4     1.0   \n",
              "4                       Jan 6, 2017       1.0   214621         502    22.0   \n",
              "...                             ...       ...      ...         ...     ...   \n",
              "19306   Oct 6, 2016 to Dec 29, 2016      13.0   134252         843  1070.0   \n",
              "19307   Apr 6, 1995 to Mar 28, 1996      52.0    84407        1292  1071.0   \n",
              "19308  Oct 22, 2000 to Mar 25, 2001      19.0    83093        1314  1073.0   \n",
              "19309                  Dec 21, 2002       1.0    71989        1469  1077.0   \n",
              "19310                  Mar 12, 1988       1.0    29248        2604  1081.0   \n",
              "\n",
              "       score                                            img_url  \\\n",
              "0       8.82  https://cdn.myanimelist.net/images/anime/9/766...   \n",
              "1       8.83  https://cdn.myanimelist.net/images/anime/3/671...   \n",
              "2       8.83  https://cdn.myanimelist.net/images/anime/6/867...   \n",
              "3       9.23  https://cdn.myanimelist.net/images/anime/1223/...   \n",
              "4       8.83  https://cdn.myanimelist.net/images/anime/3/815...   \n",
              "...      ...                                                ...   \n",
              "19306   7.73  https://cdn.myanimelist.net/images/anime/4/822...   \n",
              "19307   7.73  https://cdn.myanimelist.net/images/anime/2/201...   \n",
              "19308   7.73  https://cdn.myanimelist.net/images/anime/9/183...   \n",
              "19309   7.73  https://cdn.myanimelist.net/images/anime/1162/...   \n",
              "19310   7.73  https://cdn.myanimelist.net/images/anime/1523/...   \n",
              "\n",
              "                                                    link  \n",
              "0      https://myanimelist.net/anime/28891/Haikyuu_Se...  \n",
              "1      https://myanimelist.net/anime/23273/Shigatsu_w...  \n",
              "2      https://myanimelist.net/anime/34599/Made_in_Abyss  \n",
              "3      https://myanimelist.net/anime/5114/Fullmetal_A...  \n",
              "4      https://myanimelist.net/anime/31758/Kizumonoga...  \n",
              "...                                                  ...  \n",
              "19306  https://myanimelist.net/anime/32979/Flip_Flappers  \n",
              "19307    https://myanimelist.net/anime/123/Fushigi_Yuugi  \n",
              "19308  https://myanimelist.net/anime/1281/Gakkou_no_K...  \n",
              "19309  https://myanimelist.net/anime/450/InuYasha_Mov...  \n",
              "19310  https://myanimelist.net/anime/87/Mobile_Suit_G...  \n",
              "\n",
              "[15187 rows x 12 columns]>"
            ]
          },
          "metadata": {},
          "execution_count": 39
        }
      ]
    },
    {
      "cell_type": "code",
      "source": [
        "anime = anime.drop_duplicates(subset = 'title')"
      ],
      "metadata": {
        "id": "spm1xZSXwdRQ"
      },
      "execution_count": 97,
      "outputs": []
    },
    {
      "cell_type": "code",
      "source": [
        "anime.synopsis = anime.synopsis.apply(lambda x:x.split())"
      ],
      "metadata": {
        "colab": {
          "base_uri": "https://localhost:8080/",
          "height": 241
        },
        "id": "FA-NR_gRQC29",
        "outputId": "936407d3-f62f-4286-de7a-34c0afe50d1d"
      },
      "execution_count": 98,
      "outputs": [
        {
          "output_type": "error",
          "ename": "AttributeError",
          "evalue": "ignored",
          "traceback": [
            "\u001b[0;31m---------------------------------------------------------------------------\u001b[0m",
            "\u001b[0;31mAttributeError\u001b[0m                            Traceback (most recent call last)",
            "\u001b[0;32m<ipython-input-98-b518561130c2>\u001b[0m in \u001b[0;36m<cell line: 1>\u001b[0;34m()\u001b[0m\n\u001b[0;32m----> 1\u001b[0;31m \u001b[0manime\u001b[0m\u001b[0;34m.\u001b[0m\u001b[0msynopsis\u001b[0m \u001b[0;34m=\u001b[0m \u001b[0manime\u001b[0m\u001b[0;34m.\u001b[0m\u001b[0msynopsis\u001b[0m\u001b[0;34m.\u001b[0m\u001b[0mapply\u001b[0m\u001b[0;34m(\u001b[0m\u001b[0;32mlambda\u001b[0m \u001b[0mx\u001b[0m\u001b[0;34m:\u001b[0m\u001b[0mx\u001b[0m\u001b[0;34m.\u001b[0m\u001b[0msplit\u001b[0m\u001b[0;34m(\u001b[0m\u001b[0;34m)\u001b[0m\u001b[0;34m)\u001b[0m\u001b[0;34m\u001b[0m\u001b[0;34m\u001b[0m\u001b[0m\n\u001b[0m",
            "\u001b[0;32m/usr/local/lib/python3.9/dist-packages/pandas/core/series.py\u001b[0m in \u001b[0;36mapply\u001b[0;34m(self, func, convert_dtype, args, **kwargs)\u001b[0m\n\u001b[1;32m   4769\u001b[0m         \u001b[0mdtype\u001b[0m\u001b[0;34m:\u001b[0m \u001b[0mfloat64\u001b[0m\u001b[0;34m\u001b[0m\u001b[0;34m\u001b[0m\u001b[0m\n\u001b[1;32m   4770\u001b[0m         \"\"\"\n\u001b[0;32m-> 4771\u001b[0;31m         \u001b[0;32mreturn\u001b[0m \u001b[0mSeriesApply\u001b[0m\u001b[0;34m(\u001b[0m\u001b[0mself\u001b[0m\u001b[0;34m,\u001b[0m \u001b[0mfunc\u001b[0m\u001b[0;34m,\u001b[0m \u001b[0mconvert_dtype\u001b[0m\u001b[0;34m,\u001b[0m \u001b[0margs\u001b[0m\u001b[0;34m,\u001b[0m \u001b[0mkwargs\u001b[0m\u001b[0;34m)\u001b[0m\u001b[0;34m.\u001b[0m\u001b[0mapply\u001b[0m\u001b[0;34m(\u001b[0m\u001b[0;34m)\u001b[0m\u001b[0;34m\u001b[0m\u001b[0;34m\u001b[0m\u001b[0m\n\u001b[0m\u001b[1;32m   4772\u001b[0m \u001b[0;34m\u001b[0m\u001b[0m\n\u001b[1;32m   4773\u001b[0m     def _reduce(\n",
            "\u001b[0;32m/usr/local/lib/python3.9/dist-packages/pandas/core/apply.py\u001b[0m in \u001b[0;36mapply\u001b[0;34m(self)\u001b[0m\n\u001b[1;32m   1121\u001b[0m \u001b[0;34m\u001b[0m\u001b[0m\n\u001b[1;32m   1122\u001b[0m         \u001b[0;31m# self.f is Callable\u001b[0m\u001b[0;34m\u001b[0m\u001b[0;34m\u001b[0m\u001b[0m\n\u001b[0;32m-> 1123\u001b[0;31m         \u001b[0;32mreturn\u001b[0m \u001b[0mself\u001b[0m\u001b[0;34m.\u001b[0m\u001b[0mapply_standard\u001b[0m\u001b[0;34m(\u001b[0m\u001b[0;34m)\u001b[0m\u001b[0;34m\u001b[0m\u001b[0;34m\u001b[0m\u001b[0m\n\u001b[0m\u001b[1;32m   1124\u001b[0m \u001b[0;34m\u001b[0m\u001b[0m\n\u001b[1;32m   1125\u001b[0m     \u001b[0;32mdef\u001b[0m \u001b[0magg\u001b[0m\u001b[0;34m(\u001b[0m\u001b[0mself\u001b[0m\u001b[0;34m)\u001b[0m\u001b[0;34m:\u001b[0m\u001b[0;34m\u001b[0m\u001b[0;34m\u001b[0m\u001b[0m\n",
            "\u001b[0;32m/usr/local/lib/python3.9/dist-packages/pandas/core/apply.py\u001b[0m in \u001b[0;36mapply_standard\u001b[0;34m(self)\u001b[0m\n\u001b[1;32m   1172\u001b[0m             \u001b[0;32melse\u001b[0m\u001b[0;34m:\u001b[0m\u001b[0;34m\u001b[0m\u001b[0;34m\u001b[0m\u001b[0m\n\u001b[1;32m   1173\u001b[0m                 \u001b[0mvalues\u001b[0m \u001b[0;34m=\u001b[0m \u001b[0mobj\u001b[0m\u001b[0;34m.\u001b[0m\u001b[0mastype\u001b[0m\u001b[0;34m(\u001b[0m\u001b[0mobject\u001b[0m\u001b[0;34m)\u001b[0m\u001b[0;34m.\u001b[0m\u001b[0m_values\u001b[0m\u001b[0;34m\u001b[0m\u001b[0;34m\u001b[0m\u001b[0m\n\u001b[0;32m-> 1174\u001b[0;31m                 mapped = lib.map_infer(\n\u001b[0m\u001b[1;32m   1175\u001b[0m                     \u001b[0mvalues\u001b[0m\u001b[0;34m,\u001b[0m\u001b[0;34m\u001b[0m\u001b[0;34m\u001b[0m\u001b[0m\n\u001b[1;32m   1176\u001b[0m                     \u001b[0mf\u001b[0m\u001b[0;34m,\u001b[0m\u001b[0;34m\u001b[0m\u001b[0;34m\u001b[0m\u001b[0m\n",
            "\u001b[0;32m/usr/local/lib/python3.9/dist-packages/pandas/_libs/lib.pyx\u001b[0m in \u001b[0;36mpandas._libs.lib.map_infer\u001b[0;34m()\u001b[0m\n",
            "\u001b[0;32m<ipython-input-98-b518561130c2>\u001b[0m in \u001b[0;36m<lambda>\u001b[0;34m(x)\u001b[0m\n\u001b[0;32m----> 1\u001b[0;31m \u001b[0manime\u001b[0m\u001b[0;34m.\u001b[0m\u001b[0msynopsis\u001b[0m \u001b[0;34m=\u001b[0m \u001b[0manime\u001b[0m\u001b[0;34m.\u001b[0m\u001b[0msynopsis\u001b[0m\u001b[0;34m.\u001b[0m\u001b[0mapply\u001b[0m\u001b[0;34m(\u001b[0m\u001b[0;32mlambda\u001b[0m \u001b[0mx\u001b[0m\u001b[0;34m:\u001b[0m\u001b[0mx\u001b[0m\u001b[0;34m.\u001b[0m\u001b[0msplit\u001b[0m\u001b[0;34m(\u001b[0m\u001b[0;34m)\u001b[0m\u001b[0;34m)\u001b[0m\u001b[0;34m\u001b[0m\u001b[0;34m\u001b[0m\u001b[0m\n\u001b[0m",
            "\u001b[0;31mAttributeError\u001b[0m: 'list' object has no attribute 'split'"
          ]
        }
      ]
    },
    {
      "cell_type": "code",
      "source": [
        "anime['tags'] = anime['synopsis'] + anime['genre']"
      ],
      "metadata": {
        "colab": {
          "base_uri": "https://localhost:8080/"
        },
        "id": "-c9G6kIeQhHT",
        "outputId": "89dd969d-501c-446a-f56f-034bc0f5d05b"
      },
      "execution_count": 99,
      "outputs": [
        {
          "output_type": "stream",
          "name": "stderr",
          "text": [
            "<ipython-input-99-3c21b9a42d28>:1: SettingWithCopyWarning: \n",
            "A value is trying to be set on a copy of a slice from a DataFrame.\n",
            "Try using .loc[row_indexer,col_indexer] = value instead\n",
            "\n",
            "See the caveats in the documentation: https://pandas.pydata.org/pandas-docs/stable/user_guide/indexing.html#returning-a-view-versus-a-copy\n",
            "  anime['tags'] = anime['synopsis'] + anime['genre']\n"
          ]
        }
      ]
    },
    {
      "cell_type": "code",
      "source": [
        "anime.tags[0]"
      ],
      "metadata": {
        "colab": {
          "base_uri": "https://localhost:8080/"
        },
        "id": "RMoWZpE8QtXF",
        "outputId": "d6742a2d-65d2-4f4a-dc56-28afd276d959"
      },
      "execution_count": 100,
      "outputs": [
        {
          "output_type": "execute_result",
          "data": {
            "text/plain": [
              "['Following',\n",
              " 'their',\n",
              " 'participation',\n",
              " 'at',\n",
              " 'the',\n",
              " 'Inter-High,',\n",
              " 'the',\n",
              " 'Karasuno',\n",
              " 'High',\n",
              " 'School',\n",
              " 'volleyball',\n",
              " 'team',\n",
              " 'attempts',\n",
              " 'to',\n",
              " 'refocus',\n",
              " 'their',\n",
              " 'efforts,',\n",
              " 'aiming',\n",
              " 'to',\n",
              " 'conquer',\n",
              " 'the',\n",
              " 'Spring',\n",
              " 'tournament',\n",
              " 'instead.',\n",
              " 'When',\n",
              " 'they',\n",
              " 'receive',\n",
              " 'an',\n",
              " 'invitation',\n",
              " 'from',\n",
              " 'long-standing',\n",
              " 'rival',\n",
              " 'Nekoma',\n",
              " 'High,',\n",
              " 'Karasuno',\n",
              " 'agrees',\n",
              " 'to',\n",
              " 'take',\n",
              " 'part',\n",
              " 'in',\n",
              " 'a',\n",
              " 'large',\n",
              " 'training',\n",
              " 'camp',\n",
              " 'alongside',\n",
              " 'many',\n",
              " 'notable',\n",
              " 'volleyball',\n",
              " 'teams',\n",
              " 'in',\n",
              " 'Tokyo',\n",
              " 'and',\n",
              " 'even',\n",
              " 'some',\n",
              " 'national',\n",
              " 'level',\n",
              " 'players.',\n",
              " 'By',\n",
              " 'playing',\n",
              " 'with',\n",
              " 'some',\n",
              " 'of',\n",
              " 'the',\n",
              " 'toughest',\n",
              " 'teams',\n",
              " 'in',\n",
              " 'Japan,',\n",
              " 'they',\n",
              " 'hope',\n",
              " 'not',\n",
              " 'only',\n",
              " 'to',\n",
              " 'sharpen',\n",
              " 'their',\n",
              " 'skills,',\n",
              " 'but',\n",
              " 'also',\n",
              " 'come',\n",
              " 'up',\n",
              " 'with',\n",
              " 'new',\n",
              " 'attacks',\n",
              " 'that',\n",
              " 'would',\n",
              " 'strengthen',\n",
              " 'them.',\n",
              " 'Moreover,',\n",
              " 'Hinata',\n",
              " 'and',\n",
              " 'Kageyama',\n",
              " 'attempt',\n",
              " 'to',\n",
              " 'devise',\n",
              " 'a',\n",
              " 'more',\n",
              " 'powerful',\n",
              " 'weapon,',\n",
              " 'one',\n",
              " 'that',\n",
              " 'could',\n",
              " 'possibly',\n",
              " 'break',\n",
              " 'the',\n",
              " 'sturdiest',\n",
              " 'of',\n",
              " 'blocks.',\n",
              " 'Facing',\n",
              " 'what',\n",
              " 'may',\n",
              " 'be',\n",
              " 'their',\n",
              " 'last',\n",
              " 'chance',\n",
              " 'at',\n",
              " 'victory',\n",
              " 'before',\n",
              " 'the',\n",
              " 'senior',\n",
              " 'players',\n",
              " 'graduate,',\n",
              " 'the',\n",
              " 'members',\n",
              " 'of',\n",
              " \"Karasuno's\",\n",
              " 'volleyball',\n",
              " 'team',\n",
              " 'must',\n",
              " 'learn',\n",
              " 'to',\n",
              " 'settle',\n",
              " 'their',\n",
              " 'differences',\n",
              " 'and',\n",
              " 'train',\n",
              " 'harder',\n",
              " 'than',\n",
              " 'ever',\n",
              " 'if',\n",
              " 'they',\n",
              " 'hope',\n",
              " 'to',\n",
              " 'overcome',\n",
              " 'formidable',\n",
              " 'opponents',\n",
              " 'old',\n",
              " 'and',\n",
              " 'new—including',\n",
              " 'their',\n",
              " 'archrival',\n",
              " 'Aoba',\n",
              " 'Jousai',\n",
              " 'and',\n",
              " 'its',\n",
              " 'world-class',\n",
              " 'setter',\n",
              " 'Tooru',\n",
              " 'Oikawa.',\n",
              " '[Written',\n",
              " 'by',\n",
              " 'MAL',\n",
              " 'Rewrite]',\n",
              " 'Comedy',\n",
              " 'Sports',\n",
              " 'Drama',\n",
              " 'School',\n",
              " 'Shounen']"
            ]
          },
          "metadata": {},
          "execution_count": 100
        }
      ]
    },
    {
      "cell_type": "code",
      "source": [
        "df = anime[['uid','title','tags','popularity','score','ranked']]\n",
        "\n",
        "df.tags = df.tags.apply(lambda x:\" \".join(x))"
      ],
      "metadata": {
        "colab": {
          "base_uri": "https://localhost:8080/"
        },
        "id": "MJXqFAnGQ6Dz",
        "outputId": "3bfbfffd-310f-49eb-eae4-0ff134a755e5"
      },
      "execution_count": 101,
      "outputs": [
        {
          "output_type": "stream",
          "name": "stderr",
          "text": [
            "<ipython-input-101-813f22c5238a>:3: SettingWithCopyWarning: \n",
            "A value is trying to be set on a copy of a slice from a DataFrame.\n",
            "Try using .loc[row_indexer,col_indexer] = value instead\n",
            "\n",
            "See the caveats in the documentation: https://pandas.pydata.org/pandas-docs/stable/user_guide/indexing.html#returning-a-view-versus-a-copy\n",
            "  df.tags = df.tags.apply(lambda x:\" \".join(x))\n"
          ]
        }
      ]
    },
    {
      "cell_type": "code",
      "source": [
        "df.tags = df.tags.apply(lambda x:x.lower())"
      ],
      "metadata": {
        "colab": {
          "base_uri": "https://localhost:8080/"
        },
        "id": "TikErx2yT6eW",
        "outputId": "fca715e5-195a-4404-8e76-01fcdbf480c2"
      },
      "execution_count": 102,
      "outputs": [
        {
          "output_type": "stream",
          "name": "stderr",
          "text": [
            "<ipython-input-102-5f97daf13cc4>:1: SettingWithCopyWarning: \n",
            "A value is trying to be set on a copy of a slice from a DataFrame.\n",
            "Try using .loc[row_indexer,col_indexer] = value instead\n",
            "\n",
            "See the caveats in the documentation: https://pandas.pydata.org/pandas-docs/stable/user_guide/indexing.html#returning-a-view-versus-a-copy\n",
            "  df.tags = df.tags.apply(lambda x:x.lower())\n"
          ]
        }
      ]
    },
    {
      "cell_type": "code",
      "source": [
        "df.tags"
      ],
      "metadata": {
        "colab": {
          "base_uri": "https://localhost:8080/"
        },
        "id": "K6HkC5j4UP91",
        "outputId": "64fd8e27-ed47-4ce3-9c14-c865d120f8f8"
      },
      "execution_count": 106,
      "outputs": [
        {
          "output_type": "execute_result",
          "data": {
            "text/plain": [
              "0        following their participation at the inter-hig...\n",
              "1        music accompanies the path of the human metron...\n",
              "2        the abyss—a gaping chasm stretching down into ...\n",
              "3        \"in order for something to be obtained, someth...\n",
              "4        after helping revive the legendary vampire kis...\n",
              "                               ...                        \n",
              "19002    all-new animation offered throughout uniqlo cl...\n",
              "19003    high school student sora kashiwagi is accustom...\n",
              "19004    after regaining her squid-like abilities, ika ...\n",
              "19005    for years, the niflheim empire and the kingdom...\n",
              "19006    although yuuta togashi and rikka takanashi hav...\n",
              "Name: tags, Length: 13675, dtype: object"
            ]
          },
          "metadata": {},
          "execution_count": 106
        }
      ]
    },
    {
      "cell_type": "code",
      "source": [
        "import nltk\n",
        "from nltk.stem.porter import PorterStemmer\n",
        "\n",
        "ps = PorterStemmer()"
      ],
      "metadata": {
        "id": "x3qm5c4AnLh_"
      },
      "execution_count": 107,
      "outputs": []
    },
    {
      "cell_type": "code",
      "source": [
        "def stem(text):\n",
        "    y = []\n",
        "    for i in text.split():\n",
        "        y.append(ps.stem(i))\n",
        "    return \" \".join(y)\n",
        "\n",
        "df.tags = df.tags.apply(stem)"
      ],
      "metadata": {
        "colab": {
          "base_uri": "https://localhost:8080/"
        },
        "id": "4KAmq01UncDG",
        "outputId": "9d1bdcd4-5bda-4299-cb14-ed78dd2c950f"
      },
      "execution_count": 108,
      "outputs": [
        {
          "output_type": "stream",
          "name": "stderr",
          "text": [
            "<ipython-input-108-b0c8620ee5fd>:7: SettingWithCopyWarning: \n",
            "A value is trying to be set on a copy of a slice from a DataFrame.\n",
            "Try using .loc[row_indexer,col_indexer] = value instead\n",
            "\n",
            "See the caveats in the documentation: https://pandas.pydata.org/pandas-docs/stable/user_guide/indexing.html#returning-a-view-versus-a-copy\n",
            "  df.tags = df.tags.apply(stem)\n"
          ]
        }
      ]
    },
    {
      "cell_type": "code",
      "source": [
        "from sklearn.feature_extraction.text import CountVectorizer\n",
        "\n",
        "cv = CountVectorizer(max_features = 5000,stop_words='english')"
      ],
      "metadata": {
        "id": "D2-Q6UmfURJw"
      },
      "execution_count": 109,
      "outputs": []
    },
    {
      "cell_type": "code",
      "source": [
        "vectors = cv.fit_transform(df['tags']).toarray()"
      ],
      "metadata": {
        "id": "4XpnBNxUXsf3"
      },
      "execution_count": 110,
      "outputs": []
    },
    {
      "cell_type": "code",
      "source": [
        "vectors[0]"
      ],
      "metadata": {
        "colab": {
          "base_uri": "https://localhost:8080/"
        },
        "id": "yDKF01LllsYI",
        "outputId": "3a9e5b16-984b-4984-c068-5c3dcae75de1"
      },
      "execution_count": 111,
      "outputs": [
        {
          "output_type": "execute_result",
          "data": {
            "text/plain": [
              "array([0, 0, 0, ..., 0, 0, 0])"
            ]
          },
          "metadata": {},
          "execution_count": 111
        }
      ]
    },
    {
      "cell_type": "code",
      "source": [
        "len(cv.get_feature_names_out())"
      ],
      "metadata": {
        "colab": {
          "base_uri": "https://localhost:8080/"
        },
        "id": "DsTGT8jGmgEH",
        "outputId": "9f4a79ea-9ab0-4af0-939d-e5f763554387"
      },
      "execution_count": 112,
      "outputs": [
        {
          "output_type": "execute_result",
          "data": {
            "text/plain": [
              "5000"
            ]
          },
          "metadata": {},
          "execution_count": 112
        }
      ]
    },
    {
      "cell_type": "code",
      "source": [
        "from sklearn.metrics.pairwise import cosine_similarity"
      ],
      "metadata": {
        "id": "zawQ6Tlfqz0p"
      },
      "execution_count": 113,
      "outputs": []
    },
    {
      "cell_type": "code",
      "source": [
        "similarity = cosine_similarity(vectors)"
      ],
      "metadata": {
        "id": "DbZCGPLErOU5"
      },
      "execution_count": 114,
      "outputs": []
    },
    {
      "cell_type": "code",
      "source": [
        "similarity"
      ],
      "metadata": {
        "colab": {
          "base_uri": "https://localhost:8080/"
        },
        "id": "3ksyw7kEr0hH",
        "outputId": "8b115f7a-ac47-4fe3-9408-63597202e009"
      },
      "execution_count": 115,
      "outputs": [
        {
          "output_type": "execute_result",
          "data": {
            "text/plain": [
              "array([[1.        , 0.10724978, 0.07841509, ..., 0.09628775, 0.06413148,\n",
              "        0.07897472],\n",
              "       [0.10724978, 1.        , 0.12299628, ..., 0.08810086, 0.2933934 ,\n",
              "        0.07340685],\n",
              "       [0.07841509, 0.12299628, 1.        , ..., 0.04416992, 0.12503042,\n",
              "        0.08855718],\n",
              "       ...,\n",
              "       [0.09628775, 0.08810086, 0.04416992, ..., 1.        , 0.05644405,\n",
              "        0.13592683],\n",
              "       [0.06413148, 0.2933934 , 0.12503042, ..., 0.05644405, 1.        ,\n",
              "        0.03292097],\n",
              "       [0.07897472, 0.07340685, 0.08855718, ..., 0.13592683, 0.03292097,\n",
              "        1.        ]])"
            ]
          },
          "metadata": {},
          "execution_count": 115
        }
      ]
    },
    {
      "cell_type": "code",
      "source": [
        "def recommend(val):\n",
        "    df_index = df[df.title == val].index[0]\n",
        "    distances = similarity[df_index]\n",
        "\n",
        "    anime_list = sorted(list(enumerate(distances)),reverse = True ,key = lambda x:x[1])[1:11]\n",
        "    \n",
        "\n",
        "    for i in anime_list:\n",
        "        print(df.iloc[i[0]].title)\n",
        "    "
      ],
      "metadata": {
        "id": "qdktxWKwsyZ2"
      },
      "execution_count": 116,
      "outputs": []
    },
    {
      "cell_type": "code",
      "source": [
        "recommend('Made in Abyss')"
      ],
      "metadata": {
        "colab": {
          "base_uri": "https://localhost:8080/"
        },
        "id": "0rNR0oCmvSNq",
        "outputId": "4fd8d3bb-9645-40a7-cadc-b64042e23617"
      },
      "execution_count": 120,
      "outputs": [
        {
          "output_type": "stream",
          "name": "stdout",
          "text": [
            "Pandora Hearts\n",
            "Eden's Bowy\n",
            "Uchuu Kaizoku Captain Herlock\n",
            "El Cazador de la Bruja\n",
            "Layton Kyouju to Eien no Utahime\n",
            "Kindaichi Shounen no Jikenbo: Kuromajutsu Satsujin Jiken-hen\n",
            "Utawarerumono\n",
            "Tokkou\n",
            "Tsumiki no Ie\n",
            "UN-GO\n"
          ]
        }
      ]
    }
  ]
}